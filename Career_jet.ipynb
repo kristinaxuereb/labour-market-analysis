{
 "cells": [
  {
   "cell_type": "code",
   "execution_count": 25,
   "metadata": {},
   "outputs": [],
   "source": [
    "# Import Libraries \n",
    "\n",
    "from selenium import webdriver\n",
    "from selenium.webdriver.support.ui import WebDriverWait\n",
    "from webdriver_manager.chrome import ChromeDriverManager\n",
    "from bs4 import BeautifulSoup\n",
    "from time import sleep\n",
    "import re"
   ]
  },
  {
   "cell_type": "code",
   "execution_count": 23,
   "metadata": {},
   "outputs": [],
   "source": [
    "# URL to be webscraped\n",
    "url = \"https://www.careerjet.com.mt/search/jobs?s=&l=Malta\"\n"
   ]
  },
  {
   "cell_type": "code",
   "execution_count": 27,
   "metadata": {},
   "outputs": [
    {
     "name": "stderr",
     "output_type": "stream",
     "text": [
      "\n",
      "\n",
      "====== WebDriver manager ======\n",
      "Current google-chrome version is 91.0.4472\n",
      "Get LATEST driver version for 91.0.4472\n",
      "Driver [/Users/kristinaxuereb/.wdm/drivers/chromedriver/mac64/91.0.4472.101/chromedriver] found in cache\n"
     ]
    }
   ],
   "source": [
    "# Open the URl by web browser (Used this command to make sure to have the updated chrome and webdriver) \n",
    "wd = webdriver.Chrome(ChromeDriverManager().install())\n",
    "wd.get(url)"
   ]
  },
  {
   "cell_type": "code",
   "execution_count": 28,
   "metadata": {},
   "outputs": [
    {
     "data": {
      "text/plain": [
       "4305"
      ]
     },
     "execution_count": 28,
     "metadata": {},
     "output_type": "execute_result"
    }
   ],
   "source": [
    "## Total jobs available in Malta\n",
    "no_of_jobs = wd.find_element_by_css_selector(\"p span\").get_attribute(\"innerText\")[:-5]\n",
    "no_of_jobs = int(no_of_jobs.replace(',', ''))\n",
    "no_of_jobs"
   ]
  },
  {
   "cell_type": "code",
   "execution_count": 29,
   "metadata": {},
   "outputs": [],
   "source": [
    "## Getting the first link and clicking on it: \n",
    "\n",
    "first_job = wd.find_element_by_class_name('job')\n",
    "first_job_link = first_job.find_element_by_tag_name('a').click()\n",
    "\n",
    "## Now the driver is ready to scrape the first job listing"
   ]
  },
  {
   "cell_type": "code",
   "execution_count": 30,
   "metadata": {},
   "outputs": [],
   "source": [
    "## Now we begin the actual scraping of the data. Extracted what was actually important for analysis. \n",
    "\n",
    "title_list = []\n",
    "company_name_list = []\n",
    "contract_type_list = []\n",
    "working_hours_list = []\n",
    "description_list = []\n",
    "\n",
    "for i in range(0, no_of_jobs-1):\n",
    "    try:\n",
    "        title = wd.find_element_by_xpath(\"//*[@id=\\\"job\\\"]/div/header/h1\").get_attribute(\"innerText\")\n",
    "    except:\n",
    "        title = \"None\"\n",
    "    title_list.append(title)\n",
    "    try:\n",
    "        company_name = wd.find_element_by_xpath(\"//*[@id=\\\"job\\\"]/div/header/p\").text\n",
    "    except:\n",
    "        company_name = \"None\"\n",
    "    company_name_list.append(company_name)\n",
    "    try:\n",
    "        contract_type = wd.find_element_by_xpath(\"//*[@id=\\\"job\\\"]/div/header/ul[1]/li[2]\").text\n",
    "    except:\n",
    "        contract_type = \"None\"\n",
    "    contract_type_list.append(contract_type)\n",
    "    try:\n",
    "        working_hours = wd.find_element_by_xpath(\"//*[@id=\\\"job\\\"]/div/header/ul[1]/li[3]\").text\n",
    "    except:\n",
    "        working_hours = \"None\"\n",
    "    working_hours_list.append(working_hours)\n",
    "    try:\n",
    "        description = wd.find_element_by_class_name('content').text\n",
    "    except:\n",
    "        description = \"None\"\n",
    "    description_list.append(description)\n",
    "    \n",
    "    current_url = wd.current_url\n",
    "    \n",
    "    next_page = wd.find_element_by_class_name('next').click()\n",
    "    wait = WebDriverWait(wd,10)\n",
    "    wait.until(lambda x: x.current_url != current_url)\n",
    "    "
   ]
  },
  {
   "cell_type": "code",
   "execution_count": 31,
   "metadata": {},
   "outputs": [
    {
     "data": {
      "text/plain": [
       "4304"
      ]
     },
     "execution_count": 31,
     "metadata": {},
     "output_type": "execute_result"
    }
   ],
   "source": [
    "#Finding the length of the list\n",
    "\n",
    "len(description_list)"
   ]
  },
  {
   "cell_type": "markdown",
   "metadata": {},
   "source": [
    " ### Data Description and Data Validation"
   ]
  },
  {
   "cell_type": "code",
   "execution_count": 32,
   "metadata": {},
   "outputs": [],
   "source": [
    "\n",
    "import numpy as np\n",
    "import pandas as pd\n",
    "import nltk\n",
    "import re\n",
    "import os\n",
    "import codecs\n",
    "from sklearn import feature_extraction\n",
    "from nltk.corpus import stopwords\n",
    "from nltk.corpus import wordnet as wn\n",
    "from nltk import tokenize\n",
    "from nltk import sent_tokenize,word_tokenize\n",
    "from nltk import pos_tag\n",
    "from nltk.stem import WordNetLemmatizer\n"
   ]
  },
  {
   "cell_type": "code",
   "execution_count": 33,
   "metadata": {},
   "outputs": [
    {
     "data": {
      "text/html": [
       "<div>\n",
       "<style scoped>\n",
       "    .dataframe tbody tr th:only-of-type {\n",
       "        vertical-align: middle;\n",
       "    }\n",
       "\n",
       "    .dataframe tbody tr th {\n",
       "        vertical-align: top;\n",
       "    }\n",
       "\n",
       "    .dataframe thead th {\n",
       "        text-align: right;\n",
       "    }\n",
       "</style>\n",
       "<table border=\"1\" class=\"dataframe\">\n",
       "  <thead>\n",
       "    <tr style=\"text-align: right;\">\n",
       "      <th></th>\n",
       "      <th>Job_Title</th>\n",
       "      <th>Company_Name</th>\n",
       "      <th>Contract_Type</th>\n",
       "      <th>Working_Hours</th>\n",
       "      <th>Description</th>\n",
       "    </tr>\n",
       "  </thead>\n",
       "  <tbody>\n",
       "    <tr>\n",
       "      <th>0</th>\n",
       "      <td>Dental Assistant</td>\n",
       "      <td>Misco</td>\n",
       "      <td>Permanent</td>\n",
       "      <td>Full-time</td>\n",
       "      <td>Job Description\\n\\nClosing Date - 30/06/2021\\n...</td>\n",
       "    </tr>\n",
       "    <tr>\n",
       "      <th>1</th>\n",
       "      <td>Receptionist</td>\n",
       "      <td>Misco</td>\n",
       "      <td>Permanent</td>\n",
       "      <td>Full-time</td>\n",
       "      <td>Job Description\\n\\nClosing Date - 15/07/2020\\n...</td>\n",
       "    </tr>\n",
       "    <tr>\n",
       "      <th>2</th>\n",
       "      <td>CLEANER</td>\n",
       "      <td>deVere &amp; Partners Holding Ltd</td>\n",
       "      <td>Permanent</td>\n",
       "      <td>Full-time</td>\n",
       "      <td>Responsibilities &amp; Requisites: \\nMust be comfo...</td>\n",
       "    </tr>\n",
       "    <tr>\n",
       "      <th>3</th>\n",
       "      <td>chef de partie</td>\n",
       "      <td>NAAR Restobar</td>\n",
       "      <td>€30,000 per year</td>\n",
       "      <td>Permanent</td>\n",
       "      <td>Work in a dynamic and cosmopolitan restaurant ...</td>\n",
       "    </tr>\n",
       "    <tr>\n",
       "      <th>4</th>\n",
       "      <td>Twitch Streamer (French Language)</td>\n",
       "      <td>Blue Window Ltd</td>\n",
       "      <td>Contract</td>\n",
       "      <td>Part-time</td>\n",
       "      <td>Do you want to join a dynamic team and become ...</td>\n",
       "    </tr>\n",
       "    <tr>\n",
       "      <th>...</th>\n",
       "      <td>...</td>\n",
       "      <td>...</td>\n",
       "      <td>...</td>\n",
       "      <td>...</td>\n",
       "      <td>...</td>\n",
       "    </tr>\n",
       "    <tr>\n",
       "      <th>4299</th>\n",
       "      <td>Process Operator</td>\n",
       "      <td>None</td>\n",
       "      <td>Permanent</td>\n",
       "      <td>Full-time</td>\n",
       "      <td>Process Operator\\n\\nPlaymobil Malta Ltd\\n\\nVac...</td>\n",
       "    </tr>\n",
       "    <tr>\n",
       "      <th>4300</th>\n",
       "      <td>Mobile Crane Driver</td>\n",
       "      <td>None</td>\n",
       "      <td>Permanent</td>\n",
       "      <td>Full-time</td>\n",
       "      <td>Mobile Crane Driver\\n\\nB&amp;B Construction Ltd.\\n...</td>\n",
       "    </tr>\n",
       "    <tr>\n",
       "      <th>4301</th>\n",
       "      <td>REAL ESTATE AGENT</td>\n",
       "      <td>None</td>\n",
       "      <td>Permanent</td>\n",
       "      <td>Full-time</td>\n",
       "      <td>REAL ESTATE AGENT\\n\\nQuicklets Gzira\\n\\nReal E...</td>\n",
       "    </tr>\n",
       "    <tr>\n",
       "      <th>4302</th>\n",
       "      <td>Delivery Person/ Helper</td>\n",
       "      <td>None</td>\n",
       "      <td>Permanent</td>\n",
       "      <td>Part-time</td>\n",
       "      <td>Delivery Person/ Helper\\n\\nCJ Transport\\n\\nFur...</td>\n",
       "    </tr>\n",
       "    <tr>\n",
       "      <th>4303</th>\n",
       "      <td>Child Carer</td>\n",
       "      <td>None</td>\n",
       "      <td>Permanent</td>\n",
       "      <td>Full-time</td>\n",
       "      <td>Child Carer\\n\\nJack &amp; Jill's Child Care Centre...</td>\n",
       "    </tr>\n",
       "  </tbody>\n",
       "</table>\n",
       "<p>4304 rows × 5 columns</p>\n",
       "</div>"
      ],
      "text/plain": [
       "                              Job_Title                   Company_Name  \\\n",
       "0                      Dental Assistant                          Misco   \n",
       "1                          Receptionist                          Misco   \n",
       "2                               CLEANER  deVere & Partners Holding Ltd   \n",
       "3                        chef de partie                  NAAR Restobar   \n",
       "4     Twitch Streamer (French Language)                Blue Window Ltd   \n",
       "...                                 ...                            ...   \n",
       "4299                   Process Operator                           None   \n",
       "4300                Mobile Crane Driver                           None   \n",
       "4301                  REAL ESTATE AGENT                           None   \n",
       "4302            Delivery Person/ Helper                           None   \n",
       "4303                        Child Carer                           None   \n",
       "\n",
       "         Contract_Type Working_Hours  \\\n",
       "0            Permanent     Full-time   \n",
       "1            Permanent     Full-time   \n",
       "2            Permanent     Full-time   \n",
       "3     €30,000 per year     Permanent   \n",
       "4             Contract     Part-time   \n",
       "...                ...           ...   \n",
       "4299         Permanent     Full-time   \n",
       "4300         Permanent     Full-time   \n",
       "4301         Permanent     Full-time   \n",
       "4302         Permanent     Part-time   \n",
       "4303         Permanent     Full-time   \n",
       "\n",
       "                                            Description  \n",
       "0     Job Description\\n\\nClosing Date - 30/06/2021\\n...  \n",
       "1     Job Description\\n\\nClosing Date - 15/07/2020\\n...  \n",
       "2     Responsibilities & Requisites: \\nMust be comfo...  \n",
       "3     Work in a dynamic and cosmopolitan restaurant ...  \n",
       "4     Do you want to join a dynamic team and become ...  \n",
       "...                                                 ...  \n",
       "4299  Process Operator\\n\\nPlaymobil Malta Ltd\\n\\nVac...  \n",
       "4300  Mobile Crane Driver\\n\\nB&B Construction Ltd.\\n...  \n",
       "4301  REAL ESTATE AGENT\\n\\nQuicklets Gzira\\n\\nReal E...  \n",
       "4302  Delivery Person/ Helper\\n\\nCJ Transport\\n\\nFur...  \n",
       "4303  Child Carer\\n\\nJack & Jill's Child Care Centre...  \n",
       "\n",
       "[4304 rows x 5 columns]"
      ]
     },
     "execution_count": 33,
     "metadata": {},
     "output_type": "execute_result"
    }
   ],
   "source": [
    "# Transforming the data into a df:\n",
    "\n",
    "dictionary = {'Job_Title': title_list,\n",
    "             'Company_Name':company_name_list,\n",
    "             'Contract_Type': contract_type_list,\n",
    "             'Working_Hours': working_hours_list,\n",
    "              'Description': description_list\n",
    "             }\n",
    "\n",
    "df = pd.DataFrame(dictionary)\n",
    "df"
   ]
  },
  {
   "cell_type": "code",
   "execution_count": 34,
   "metadata": {},
   "outputs": [
    {
     "data": {
      "text/plain": [
       "Job_Title        object\n",
       "Company_Name     object\n",
       "Contract_Type    object\n",
       "Working_Hours    object\n",
       "Description      object\n",
       "dtype: object"
      ]
     },
     "execution_count": 34,
     "metadata": {},
     "output_type": "execute_result"
    }
   ],
   "source": [
    "# Data types\n",
    "df.dtypes"
   ]
  },
  {
   "cell_type": "code",
   "execution_count": 35,
   "metadata": {},
   "outputs": [
    {
     "data": {
      "text/plain": [
       "Job_Title        0\n",
       "Company_Name     0\n",
       "Contract_Type    0\n",
       "Working_Hours    0\n",
       "Description      0\n",
       "dtype: int64"
      ]
     },
     "execution_count": 35,
     "metadata": {},
     "output_type": "execute_result"
    }
   ],
   "source": [
    "# Checking if I have any missing values\n",
    "df.isna().sum()"
   ]
  },
  {
   "cell_type": "markdown",
   "metadata": {},
   "source": [
    "## Cleaning the data"
   ]
  },
  {
   "cell_type": "code",
   "execution_count": 36,
   "metadata": {},
   "outputs": [],
   "source": [
    "# Text is converted to lower_case and all special characters are removed\n",
    "\n",
    "def list_tokenizer(list):\n",
    "    clean = [re.sub('[^A-Za-z0-9]+', ' ',i).lower() for i in list]\n",
    "    sentences_tokens = [sent_tokenize(i) for i in clean]\n",
    "    word_tokens = [word_tokenize(i) for i in clean]\n",
    "    return word_tokens\n"
   ]
  },
  {
   "cell_type": "code",
   "execution_count": 37,
   "metadata": {},
   "outputs": [],
   "source": [
    "clean_description = list_tokenizer(description_list)\n",
    "clean_title = list_tokenizer(title_list)"
   ]
  },
  {
   "cell_type": "code",
   "execution_count": null,
   "metadata": {},
   "outputs": [],
   "source": [
    "def get_wordnet_pos(treebank_tag):\n",
    "\n",
    "    if treebank_tag.startswith('J'):\n",
    "        return wordnet.ADJ\n",
    "    elif treebank_tag.startswith('V'):\n",
    "        return wordnet.VERB\n",
    "    elif treebank_tag.startswith('N'):\n",
    "        return wordnet.NOUN\n",
    "    elif treebank_tag.startswith('R'):\n",
    "        return wordnet.ADV\n",
    "    else:\n",
    "        return ''"
   ]
  },
  {
   "cell_type": "code",
   "execution_count": 38,
   "metadata": {},
   "outputs": [],
   "source": [
    "tagged_tuples = [pos_tag(element, tagset='universal') for element in clean_description]"
   ]
  }
 ],
 "metadata": {
  "kernelspec": {
   "display_name": "Python 3",
   "language": "python",
   "name": "python3"
  },
  "language_info": {
   "codemirror_mode": {
    "name": "ipython",
    "version": 3
   },
   "file_extension": ".py",
   "mimetype": "text/x-python",
   "name": "python",
   "nbconvert_exporter": "python",
   "pygments_lexer": "ipython3",
   "version": "3.8.2"
  }
 },
 "nbformat": 4,
 "nbformat_minor": 4
}
